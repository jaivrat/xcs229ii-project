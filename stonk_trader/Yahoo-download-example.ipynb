{
 "cells": [
  {
   "cell_type": "code",
   "execution_count": 60,
   "id": "62dd9559",
   "metadata": {},
   "outputs": [],
   "source": [
    "import time\n",
    "from datetime import datetime\n",
    "import pandas as pd\n",
    "import numpy as np\n",
    "# Just to use YahooDownloader\n",
    "import finrl"
   ]
  },
  {
   "cell_type": "code",
   "execution_count": 2,
   "id": "f2a304b9",
   "metadata": {},
   "outputs": [],
   "source": [
    "query_string=\"https://query1.finance.yahoo.com/v7/finance/download/TSLA?period1=1606780800&period2=1609372800&interval=1wk&events=history&includeAdjustedClose=true\""
   ]
  },
  {
   "cell_type": "code",
   "execution_count": 9,
   "id": "d28cefa8",
   "metadata": {},
   "outputs": [],
   "source": [
    "ticker = 'TSLA'\n",
    "period1 = int(time.mktime(datetime.datetime(2020,12,1, 23,59).timetuple()))\n",
    "period2 = int(time.mktime(datetime.datetime(2020,12,31, 23,59).timetuple()))\n",
    "interval='1wk' # 1d, 1m\n",
    "interval = '1d'\n",
    "query_string=f\"https://query1.finance.yahoo.com/v7/finance/download/{ticker}?period1={period1}&period2={period2}&interval={interval}&events=history&includeAdjustedClose=true\""
   ]
  },
  {
   "cell_type": "code",
   "execution_count": 10,
   "id": "cbc56af7",
   "metadata": {},
   "outputs": [
    {
     "data": {
      "text/plain": [
       "'https://query1.finance.yahoo.com/v7/finance/download/TSLA?period1=1606838340&period2=1609430340&interval=1d&events=history&includeAdjustedClose=true'"
      ]
     },
     "execution_count": 10,
     "metadata": {},
     "output_type": "execute_result"
    }
   ],
   "source": [
    "query_string\n"
   ]
  },
  {
   "cell_type": "code",
   "execution_count": 11,
   "id": "3ce9e2b3",
   "metadata": {},
   "outputs": [],
   "source": [
    "df = pd.read_csv(query_string)"
   ]
  },
  {
   "cell_type": "code",
   "execution_count": 12,
   "id": "ec12f5a1",
   "metadata": {},
   "outputs": [
    {
     "data": {
      "text/html": [
       "<div>\n",
       "<style scoped>\n",
       "    .dataframe tbody tr th:only-of-type {\n",
       "        vertical-align: middle;\n",
       "    }\n",
       "\n",
       "    .dataframe tbody tr th {\n",
       "        vertical-align: top;\n",
       "    }\n",
       "\n",
       "    .dataframe thead th {\n",
       "        text-align: right;\n",
       "    }\n",
       "</style>\n",
       "<table border=\"1\" class=\"dataframe\">\n",
       "  <thead>\n",
       "    <tr style=\"text-align: right;\">\n",
       "      <th></th>\n",
       "      <th>Date</th>\n",
       "      <th>Open</th>\n",
       "      <th>High</th>\n",
       "      <th>Low</th>\n",
       "      <th>Close</th>\n",
       "      <th>Adj Close</th>\n",
       "      <th>Volume</th>\n",
       "    </tr>\n",
       "  </thead>\n",
       "  <tbody>\n",
       "    <tr>\n",
       "      <th>0</th>\n",
       "      <td>2020-12-01</td>\n",
       "      <td>597.590027</td>\n",
       "      <td>597.849976</td>\n",
       "      <td>572.049988</td>\n",
       "      <td>584.760010</td>\n",
       "      <td>584.760010</td>\n",
       "      <td>40103500</td>\n",
       "    </tr>\n",
       "    <tr>\n",
       "      <th>1</th>\n",
       "      <td>2020-12-02</td>\n",
       "      <td>556.440002</td>\n",
       "      <td>571.539978</td>\n",
       "      <td>541.210022</td>\n",
       "      <td>568.820007</td>\n",
       "      <td>568.820007</td>\n",
       "      <td>47775700</td>\n",
       "    </tr>\n",
       "    <tr>\n",
       "      <th>2</th>\n",
       "      <td>2020-12-03</td>\n",
       "      <td>590.020020</td>\n",
       "      <td>598.969971</td>\n",
       "      <td>582.429993</td>\n",
       "      <td>593.380005</td>\n",
       "      <td>593.380005</td>\n",
       "      <td>42552000</td>\n",
       "    </tr>\n",
       "    <tr>\n",
       "      <th>3</th>\n",
       "      <td>2020-12-04</td>\n",
       "      <td>591.010010</td>\n",
       "      <td>599.039978</td>\n",
       "      <td>585.500000</td>\n",
       "      <td>599.039978</td>\n",
       "      <td>599.039978</td>\n",
       "      <td>29401300</td>\n",
       "    </tr>\n",
       "    <tr>\n",
       "      <th>4</th>\n",
       "      <td>2020-12-07</td>\n",
       "      <td>604.919983</td>\n",
       "      <td>648.789978</td>\n",
       "      <td>603.049988</td>\n",
       "      <td>641.760010</td>\n",
       "      <td>641.760010</td>\n",
       "      <td>56309700</td>\n",
       "    </tr>\n",
       "    <tr>\n",
       "      <th>5</th>\n",
       "      <td>2020-12-08</td>\n",
       "      <td>625.510010</td>\n",
       "      <td>651.280029</td>\n",
       "      <td>618.500000</td>\n",
       "      <td>649.880005</td>\n",
       "      <td>649.880005</td>\n",
       "      <td>64265000</td>\n",
       "    </tr>\n",
       "    <tr>\n",
       "      <th>6</th>\n",
       "      <td>2020-12-09</td>\n",
       "      <td>653.690002</td>\n",
       "      <td>654.320007</td>\n",
       "      <td>588.000000</td>\n",
       "      <td>604.479980</td>\n",
       "      <td>604.479980</td>\n",
       "      <td>71291200</td>\n",
       "    </tr>\n",
       "    <tr>\n",
       "      <th>7</th>\n",
       "      <td>2020-12-10</td>\n",
       "      <td>574.369995</td>\n",
       "      <td>627.750000</td>\n",
       "      <td>566.340027</td>\n",
       "      <td>627.070007</td>\n",
       "      <td>627.070007</td>\n",
       "      <td>67083200</td>\n",
       "    </tr>\n",
       "    <tr>\n",
       "      <th>8</th>\n",
       "      <td>2020-12-11</td>\n",
       "      <td>615.010010</td>\n",
       "      <td>624.000000</td>\n",
       "      <td>596.799988</td>\n",
       "      <td>609.989990</td>\n",
       "      <td>609.989990</td>\n",
       "      <td>46475000</td>\n",
       "    </tr>\n",
       "    <tr>\n",
       "      <th>9</th>\n",
       "      <td>2020-12-14</td>\n",
       "      <td>619.000000</td>\n",
       "      <td>642.750000</td>\n",
       "      <td>610.200012</td>\n",
       "      <td>639.830017</td>\n",
       "      <td>639.830017</td>\n",
       "      <td>52040600</td>\n",
       "    </tr>\n",
       "    <tr>\n",
       "      <th>10</th>\n",
       "      <td>2020-12-15</td>\n",
       "      <td>643.280029</td>\n",
       "      <td>646.900024</td>\n",
       "      <td>623.799988</td>\n",
       "      <td>633.250000</td>\n",
       "      <td>633.250000</td>\n",
       "      <td>45071500</td>\n",
       "    </tr>\n",
       "    <tr>\n",
       "      <th>11</th>\n",
       "      <td>2020-12-16</td>\n",
       "      <td>628.229980</td>\n",
       "      <td>632.500000</td>\n",
       "      <td>605.000000</td>\n",
       "      <td>622.770020</td>\n",
       "      <td>622.770020</td>\n",
       "      <td>42095800</td>\n",
       "    </tr>\n",
       "    <tr>\n",
       "      <th>12</th>\n",
       "      <td>2020-12-17</td>\n",
       "      <td>628.190002</td>\n",
       "      <td>658.820007</td>\n",
       "      <td>619.500000</td>\n",
       "      <td>655.900024</td>\n",
       "      <td>655.900024</td>\n",
       "      <td>56270100</td>\n",
       "    </tr>\n",
       "    <tr>\n",
       "      <th>13</th>\n",
       "      <td>2020-12-18</td>\n",
       "      <td>668.900024</td>\n",
       "      <td>695.000000</td>\n",
       "      <td>628.539978</td>\n",
       "      <td>695.000000</td>\n",
       "      <td>695.000000</td>\n",
       "      <td>222126200</td>\n",
       "    </tr>\n",
       "    <tr>\n",
       "      <th>14</th>\n",
       "      <td>2020-12-21</td>\n",
       "      <td>666.239990</td>\n",
       "      <td>668.500000</td>\n",
       "      <td>646.070007</td>\n",
       "      <td>649.859985</td>\n",
       "      <td>649.859985</td>\n",
       "      <td>58045300</td>\n",
       "    </tr>\n",
       "    <tr>\n",
       "      <th>15</th>\n",
       "      <td>2020-12-22</td>\n",
       "      <td>648.000000</td>\n",
       "      <td>649.880005</td>\n",
       "      <td>614.229980</td>\n",
       "      <td>640.340027</td>\n",
       "      <td>640.340027</td>\n",
       "      <td>51716000</td>\n",
       "    </tr>\n",
       "    <tr>\n",
       "      <th>16</th>\n",
       "      <td>2020-12-23</td>\n",
       "      <td>632.200012</td>\n",
       "      <td>651.500000</td>\n",
       "      <td>622.570007</td>\n",
       "      <td>645.979980</td>\n",
       "      <td>645.979980</td>\n",
       "      <td>33173000</td>\n",
       "    </tr>\n",
       "    <tr>\n",
       "      <th>17</th>\n",
       "      <td>2020-12-24</td>\n",
       "      <td>642.989990</td>\n",
       "      <td>666.090027</td>\n",
       "      <td>641.000000</td>\n",
       "      <td>661.770020</td>\n",
       "      <td>661.770020</td>\n",
       "      <td>22865600</td>\n",
       "    </tr>\n",
       "    <tr>\n",
       "      <th>18</th>\n",
       "      <td>2020-12-28</td>\n",
       "      <td>674.510010</td>\n",
       "      <td>681.400024</td>\n",
       "      <td>660.799988</td>\n",
       "      <td>663.690002</td>\n",
       "      <td>663.690002</td>\n",
       "      <td>32278600</td>\n",
       "    </tr>\n",
       "    <tr>\n",
       "      <th>19</th>\n",
       "      <td>2020-12-29</td>\n",
       "      <td>661.000000</td>\n",
       "      <td>669.900024</td>\n",
       "      <td>655.000000</td>\n",
       "      <td>665.989990</td>\n",
       "      <td>665.989990</td>\n",
       "      <td>22910800</td>\n",
       "    </tr>\n",
       "    <tr>\n",
       "      <th>20</th>\n",
       "      <td>2020-12-30</td>\n",
       "      <td>672.000000</td>\n",
       "      <td>696.599976</td>\n",
       "      <td>668.359985</td>\n",
       "      <td>694.780029</td>\n",
       "      <td>694.780029</td>\n",
       "      <td>42846000</td>\n",
       "    </tr>\n",
       "    <tr>\n",
       "      <th>21</th>\n",
       "      <td>2020-12-31</td>\n",
       "      <td>699.989990</td>\n",
       "      <td>718.719971</td>\n",
       "      <td>691.119995</td>\n",
       "      <td>705.669983</td>\n",
       "      <td>705.669983</td>\n",
       "      <td>49649900</td>\n",
       "    </tr>\n",
       "  </tbody>\n",
       "</table>\n",
       "</div>"
      ],
      "text/plain": [
       "          Date        Open        High         Low       Close   Adj Close  \\\n",
       "0   2020-12-01  597.590027  597.849976  572.049988  584.760010  584.760010   \n",
       "1   2020-12-02  556.440002  571.539978  541.210022  568.820007  568.820007   \n",
       "2   2020-12-03  590.020020  598.969971  582.429993  593.380005  593.380005   \n",
       "3   2020-12-04  591.010010  599.039978  585.500000  599.039978  599.039978   \n",
       "4   2020-12-07  604.919983  648.789978  603.049988  641.760010  641.760010   \n",
       "5   2020-12-08  625.510010  651.280029  618.500000  649.880005  649.880005   \n",
       "6   2020-12-09  653.690002  654.320007  588.000000  604.479980  604.479980   \n",
       "7   2020-12-10  574.369995  627.750000  566.340027  627.070007  627.070007   \n",
       "8   2020-12-11  615.010010  624.000000  596.799988  609.989990  609.989990   \n",
       "9   2020-12-14  619.000000  642.750000  610.200012  639.830017  639.830017   \n",
       "10  2020-12-15  643.280029  646.900024  623.799988  633.250000  633.250000   \n",
       "11  2020-12-16  628.229980  632.500000  605.000000  622.770020  622.770020   \n",
       "12  2020-12-17  628.190002  658.820007  619.500000  655.900024  655.900024   \n",
       "13  2020-12-18  668.900024  695.000000  628.539978  695.000000  695.000000   \n",
       "14  2020-12-21  666.239990  668.500000  646.070007  649.859985  649.859985   \n",
       "15  2020-12-22  648.000000  649.880005  614.229980  640.340027  640.340027   \n",
       "16  2020-12-23  632.200012  651.500000  622.570007  645.979980  645.979980   \n",
       "17  2020-12-24  642.989990  666.090027  641.000000  661.770020  661.770020   \n",
       "18  2020-12-28  674.510010  681.400024  660.799988  663.690002  663.690002   \n",
       "19  2020-12-29  661.000000  669.900024  655.000000  665.989990  665.989990   \n",
       "20  2020-12-30  672.000000  696.599976  668.359985  694.780029  694.780029   \n",
       "21  2020-12-31  699.989990  718.719971  691.119995  705.669983  705.669983   \n",
       "\n",
       "       Volume  \n",
       "0    40103500  \n",
       "1    47775700  \n",
       "2    42552000  \n",
       "3    29401300  \n",
       "4    56309700  \n",
       "5    64265000  \n",
       "6    71291200  \n",
       "7    67083200  \n",
       "8    46475000  \n",
       "9    52040600  \n",
       "10   45071500  \n",
       "11   42095800  \n",
       "12   56270100  \n",
       "13  222126200  \n",
       "14   58045300  \n",
       "15   51716000  \n",
       "16   33173000  \n",
       "17   22865600  \n",
       "18   32278600  \n",
       "19   22910800  \n",
       "20   42846000  \n",
       "21   49649900  "
      ]
     },
     "execution_count": 12,
     "metadata": {},
     "output_type": "execute_result"
    }
   ],
   "source": [
    "df"
   ]
  },
  {
   "cell_type": "markdown",
   "id": "d75e688c",
   "metadata": {},
   "source": [
    "## 1. Get universe of stocks. \n",
    "\n",
    "We have downloaded a snapshot of DJI universe. We take list of tickers from `data/DJI_tickers.csv`"
   ]
  },
  {
   "cell_type": "code",
   "execution_count": 50,
   "id": "26c6c871",
   "metadata": {},
   "outputs": [
    {
     "data": {
      "text/plain": [
       "array(['AAPL', 'MSFT', 'JPM', 'V', 'RTX', 'PG', 'GS', 'NKE', 'DIS', 'AXP',\n",
       "       'HD', 'INTC', 'WMT', 'IBM', 'MRK', 'UNH', 'KO', 'CAT', 'TRV',\n",
       "       'JNJ', 'CVX', 'MCD', 'VZ', 'CSCO', 'XOM', 'BA', 'MMM', 'PFE',\n",
       "       'WBA', 'DD'], dtype=object)"
      ]
     },
     "execution_count": 50,
     "metadata": {},
     "output_type": "execute_result"
    }
   ],
   "source": [
    "tickers_df = pd.read_csv(\"data/DJI_tickers.csv\")\n",
    "tickers_list = tickers_df[\"DOW_30_TICKER\"].values\n",
    "tickers_list"
   ]
  },
  {
   "cell_type": "markdown",
   "id": "321e393e",
   "metadata": {},
   "source": [
    "## 2. Download historical data"
   ]
  },
  {
   "cell_type": "code",
   "execution_count": null,
   "id": "8bbd61e3",
   "metadata": {},
   "outputs": [
    {
     "name": "stdout",
     "output_type": "stream",
     "text": [
      "Downloading AAPL..\n",
      "Downloading MSFT..\n",
      "Downloading JPM..\n",
      "Downloading V..\n",
      "Downloading RTX..\n",
      "Downloading PG..\n",
      "Downloading GS..\n",
      "Downloading NKE..\n",
      "Downloading DIS..\n"
     ]
    }
   ],
   "source": [
    "import time\n",
    "from datetime import datetime\n",
    "\n",
    "def ticker_downloader(p_start_date_str, p_end_date_str, p_ticker, p_interval = '1d'):\n",
    "    # Add timestamp\n",
    "    st = p_start_date_str + \" \" + \"23:59\"\n",
    "    end = p_end_date_str + \" \" + \"23:59\"\n",
    "    # Reconvert to timestamp\n",
    "    st = datetime.strptime(st, \"%Y.%m.%d %H:%M\")\n",
    "    end = datetime.strptime(end, \"%Y.%m.%d %H:%M\")\n",
    "    # Get back system time format for final query\n",
    "    period1 = int(time.mktime(st.timetuple()))\n",
    "    period2 = int(time.mktime(end.timetuple()))\n",
    "    query_string=f\"https://query1.finance.yahoo.com/v7/finance/download/{p_ticker}?period1={period1}&period2={period2}&interval={p_interval}&events=history&includeAdjustedClose=true\"\n",
    "    result_df = None\n",
    "    try:\n",
    "        result_df = pd.read_csv(query_string)\n",
    "    except Exception as e:\n",
    "        print(\"Oops!\", e.__class__, \"occurred.\")\n",
    "        print(f\"ticker_downloader: For ticker={p_ticker}, start={p_start_date_str}, end={p_end_date_str}: {e}\")\n",
    "        return None\n",
    "    return result_df\n",
    "\n",
    "\n",
    "# Test using TSLA\n",
    "#ticker_downloader(\"2020.12.01\", \"2020.12.31\", \"TSLA\")\n",
    "# Test using non existent TSLA\n",
    "# ticker_downloader(\"2020.12.01\", \"2020.12.31\", \"TSLAXXX\")\n",
    "# Test using non existent in date\n",
    "# ticker_downloader(\"1980.12.01\", \"2020.12.31\", \"TSLA\")\n",
    "\n",
    "\n",
    "def download_all_tickers(p_start_date_str, p_end_date_str, p_tickers_list, sleep=True):\n",
    "    # make sure in correct input format\n",
    "    p_start_date_str = datetime.strptime(p_start_date_str,\"%Y.%m.%d\").strftime(\"%Y.%m.%d\")\n",
    "    p_end_date_str = datetime.strptime(p_end_date_str  ,\"%Y.%m.%d\").strftime(\"%Y.%m.%d\")\n",
    "    \n",
    "    data_dict = {}\n",
    "    for ticker in tickers_list:\n",
    "        # Not sure if Yahoo blocks me for very fast request, lets sleep for random 0-5 seconds\n",
    "        if sleep:\n",
    "            if ticker != tickers_list[0]:\n",
    "                time.sleep(np.random.randint(low = 0, high = 5, size = 1)[0])\n",
    "        print(f\"Downloading {ticker}..\")\n",
    "        data_dict[ticker] = ticker_downloader(p_start_date_str, p_end_date_str, ticker, '1d')\n",
    "    return data_dict\n",
    "        \n",
    "all_data_dict = download_all_tickers(\"1990.01.01\", \"2021.12.01\", tickers_list)"
   ]
  },
  {
   "cell_type": "code",
   "execution_count": 76,
   "id": "7db5bbfb",
   "metadata": {},
   "outputs": [
    {
     "data": {
      "text/plain": [
       "{'a': None}"
      ]
     },
     "execution_count": 76,
     "metadata": {},
     "output_type": "execute_result"
    }
   ],
   "source": [
    "data_dict={}\n",
    "data_dict[\"a\"] = None\n",
    "data_dict"
   ]
  },
  {
   "cell_type": "code",
   "execution_count": 68,
   "id": "a5b045aa",
   "metadata": {},
   "outputs": [
    {
     "data": {
      "text/plain": [
       "False"
      ]
     },
     "execution_count": 68,
     "metadata": {},
     "output_type": "execute_result"
    }
   ],
   "source": [
    "start_date = \"1990.01.01\"\n",
    "end_date = \"2021.12.01\"\n",
    "\n",
    "\"aa\" != \"aa\"\n",
    "    #del tmp"
   ]
  },
  {
   "cell_type": "code",
   "execution_count": 72,
   "id": "0d76869d",
   "metadata": {},
   "outputs": [
    {
     "data": {
      "text/plain": [
       "2"
      ]
     },
     "execution_count": 72,
     "metadata": {},
     "output_type": "execute_result"
    }
   ],
   "source": []
  },
  {
   "cell_type": "code",
   "execution_count": 14,
   "id": "aa06247b",
   "metadata": {},
   "outputs": [
    {
     "ename": "ImportError",
     "evalue": "cannot import name 'DOW_30_TICKER' from 'finrl.config' (/Users/jvsingh/anaconda3/envs/rlproject/lib/python3.7/site-packages/finrl/config/__init__.py)",
     "output_type": "error",
     "traceback": [
      "\u001b[0;31m---------------------------------------------------------------------------\u001b[0m",
      "\u001b[0;31mImportError\u001b[0m                               Traceback (most recent call last)",
      "\u001b[0;32m/var/folders/mw/pvq5xc9d1klbjmpfrl8cnwfm0000gn/T/ipykernel_32175/3298651402.py\u001b[0m in \u001b[0;36m<module>\u001b[0;34m\u001b[0m\n\u001b[0;32m----> 1\u001b[0;31m \u001b[0;32mfrom\u001b[0m \u001b[0mfinrl\u001b[0m\u001b[0;34m.\u001b[0m\u001b[0mconfig\u001b[0m  \u001b[0;32mimport\u001b[0m \u001b[0mDOW_30_TICKER\u001b[0m\u001b[0;34m\u001b[0m\u001b[0;34m\u001b[0m\u001b[0m\n\u001b[0m",
      "\u001b[0;31mImportError\u001b[0m: cannot import name 'DOW_30_TICKER' from 'finrl.config' (/Users/jvsingh/anaconda3/envs/rlproject/lib/python3.7/site-packages/finrl/config/__init__.py)"
     ]
    }
   ],
   "source": [
    "from finrl.config  import DOW_30_TICKER  "
   ]
  },
  {
   "cell_type": "code",
   "execution_count": 12,
   "id": "b901ff3a",
   "metadata": {},
   "outputs": [
    {
     "ename": "AttributeError",
     "evalue": "module 'finrl.config' has no attribute 'config'",
     "output_type": "error",
     "traceback": [
      "\u001b[0;31m---------------------------------------------------------------------------\u001b[0m",
      "\u001b[0;31mAttributeError\u001b[0m                            Traceback (most recent call last)",
      "\u001b[0;32m/var/folders/mw/pvq5xc9d1klbjmpfrl8cnwfm0000gn/T/ipykernel_32175/4207683711.py\u001b[0m in \u001b[0;36m<module>\u001b[0;34m\u001b[0m\n\u001b[0;32m----> 1\u001b[0;31m \u001b[0mfinrl\u001b[0m\u001b[0;34m.\u001b[0m\u001b[0mconfig\u001b[0m\u001b[0;34m.\u001b[0m\u001b[0mconfig\u001b[0m\u001b[0;34m\u001b[0m\u001b[0;34m\u001b[0m\u001b[0m\n\u001b[0m",
      "\u001b[0;31mAttributeError\u001b[0m: module 'finrl.config' has no attribute 'config'"
     ]
    }
   ],
   "source": [
    "finrl.config.config"
   ]
  },
  {
   "cell_type": "code",
   "execution_count": null,
   "id": "760494b8",
   "metadata": {},
   "outputs": [],
   "source": []
  }
 ],
 "metadata": {
  "kernelspec": {
   "display_name": "Python 3 (ipykernel)",
   "language": "python",
   "name": "python3"
  },
  "language_info": {
   "codemirror_mode": {
    "name": "ipython",
    "version": 3
   },
   "file_extension": ".py",
   "mimetype": "text/x-python",
   "name": "python",
   "nbconvert_exporter": "python",
   "pygments_lexer": "ipython3",
   "version": "3.7.11"
  }
 },
 "nbformat": 4,
 "nbformat_minor": 5
}
